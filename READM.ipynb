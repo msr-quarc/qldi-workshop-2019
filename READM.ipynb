{
 "cells": [
  {
   "cell_type": "markdown",
   "metadata": {},
   "source": [
    "# Introduction\n",
    "\n",
    "_This repository contains the materials for the \"Q# Language\" workshop, presented at 2019 Quantum Languages Design and Implementation summer school in Verona, Italy._\n",
    "\n",
    "\n",
    "Q# (Q-sharp) is a domain-specific and [open-sourced](https://github.com/microsoft/qsharp-compiler) programming language, part of [Microsoft's Quantum Development Kit (QDK)](https://docs.microsoft.com/en-us/quantum/), used for expressing quantum algorithms. It is to be used for writing subroutines that execute on an adjunct quantum processing unit (QPU), under the control of a classical host program and computer.\n",
    "\n",
    "Most of the exercises for this workshop are taken from the [Quantum Katas](https://github.com/microsoft/QuantumKatas). The [Quantum Katas](https://github.com/microsoft/QuantumKatas) are a series of self-paced tutorials aimed at teaching you elements of quantum computing and Q# programming at the same time. The entire set of quantum katas are available online as an open-source project at https://github.com/microsoft/QuantumKatas.\n",
    "\n",
    "Some other exercises are taken from [Microsoft's Quantum GitHub repository](https://github.com/microsoft/Quantum). This open source repository has a vast library of programs that show how to implement quantum algorithms using Q#.\n",
    "\n",
    "\n",
    "## List of Exercises ##\n",
    "\n",
    "\n",
    "* **[Introduction](./0.Intro/Intro.ipynb)**.\n",
    "  This Jupyter Notebook uses the Q# Jupyter kernel to introduce the core elements of the Q# language.\n",
    "* **[Basic quantum computing gates](./1.BasicGates/BasicGates.ipynb)**.\n",
    "  This kata focuses on main single-qubit and multi-qubit gates used in quantum computing. \n",
    "* **[Deutsch–Jozsa algorithm](./2.DeutschJozsaAlgorithm/DeutschJozsaAlgorithmTutorial.ipynb)**.\n",
    "  This tutorial teaches you to implement classical functions and equivalent quantum oracles, \n",
    "  discusses the classical solution to the Deutsch–Jozsa problem, and introduces the Deutsch and Deutsch–Jozsa algorithms.\n",
    "* **[Teleportation](./3.Teleport/Teleportation.ipynb)**.\n",
    "  This kata walks you through the standard teleportation protocol and several variations.\n",
    "* **[Grover's algorithm](./4.GroverSearch/GroversAlgorithm.ipynb)**.\n",
    "  This kata introduces Grover's search algorithm and writing quantum oracles to be used with it.\n",
    "* **[Solving SAT problems using Grover's algorithm](./5.SATSolver/SolveSATWithGrover.ipynb)**.\n",
    "  This kata continues the exploration of Grover's search algorithm, using SAT problems as an example. It covers implementing quantum oracles based on the problem description instead of a hard-coded answer and using Grover's algorithm to solve problems with unknown number of solutions.\n",
    "* **[Phase estimation](./6.PhaseEstimation/PhaseEstimation.ipynb)**.\n",
    "  This kata covers phase estimation algorithms.\n",
    "  \n",
    "  \n",
    "## Samples ##\n",
    "  \n",
    "* **[Chemistry Library](./7.Chemistry/)**.\n",
    "  Shows how to perform a chemistry simulation of H2 using the local quantum simulator and\n",
    "  display the results graphically using Electron.\n",
    "* **[Numerics Library](./8.Numerics/)**.\n",
    "  Provides a samples on how to incorporate Q# programs into a C# classical host.\n",
    "  In particular, it shows how to leverage Q# numerics library to create your own ModAdder.\n",
    "* **[Python Interop](./9.Python/)**.\n",
    "  Provides a couple of samples on how to incorporate Q# programs into Python scripts.\n",
    "  The samples show the integration from both, a Python script and a Python Jupyter notebook.\n",
    "\n"
   ]
  }
 ],
 "metadata": {
  "kernelspec": {
   "display_name": "Python 3",
   "language": "python",
   "name": "python3"
  },
  "language": "fsharp",
  "language_info": {
   "codemirror_mode": {
    "name": "ipython",
    "version": 3
   },
   "file_extension": ".py",
   "mimetype": "text/x-python",
   "name": "python",
   "nbconvert_exporter": "python",
   "pygments_lexer": "ipython3",
   "version": "3.7.0"
  }
 },
 "nbformat": 4,
 "nbformat_minor": 2
}
