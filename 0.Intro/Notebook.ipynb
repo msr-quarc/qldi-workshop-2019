{
 "cells": [
  {
   "cell_type": "markdown",
   "metadata": {
    "slideshow": {
     "slide_type": "slide"
    }
   },
   "source": [
    "# Introduction to Q# #"
   ]
  },
  {
   "cell_type": "markdown",
   "metadata": {
    "slideshow": {
     "slide_type": "notes"
    }
   },
   "source": [
    "\n",
    "Q# (Q-sharp) is a domain-specific and [open-sourced](https://github.com/microsoft/qsharp-compiler) programming language, part of [Microsoft's Quantum Development Kit (QDK)](https://docs.microsoft.com/en-us/quantum/), used for expressing quantum algorithms. It is to be used for writing subroutines that execute on an adjunct quantum processing unit (QPU), under the control of a classical host program and computer.\n",
    "\n"
   ]
  },
  {
   "cell_type": "markdown",
   "metadata": {
    "slideshow": {
     "slide_type": "slide"
    }
   },
   "source": [
    "\n",
    "Operations and functions are the basic unit of execution in Q#. They are roughly equivalent to a function in C or C++ or Python, or a static method in C# or Java.\n"
   ]
  },
  {
   "cell_type": "markdown",
   "metadata": {
    "slideshow": {
     "slide_type": "notes"
    }
   },
   "source": [
    "\n",
    "A Q# operation is a quantum subroutine. That is, it is a callable routine that contains quantum operations.\n",
    "\n",
    "A Q# function is a classical subroutine used within a quantum algorithm. It may contain classical code but no quantum operations. Specifically, functions may not allocate or borrow qubits, nor may they call operations. It is possible, however, to pass them operations or qubits for processing. Functions are thus entirely deterministic in the sense that calling them with the same arguments will always produce the same result.\n",
    "\n",
    "Together, operations and functions are called callables.\n",
    "\n"
   ]
  },
  {
   "cell_type": "markdown",
   "metadata": {
    "slideshow": {
     "slide_type": "notes"
    }
   },
   "source": [
    "\n",
    "IQ#, the Q# Jupyter kernel, allows you to write Q# functions and operations directly on a code cell and compile them by running the cell (pressing Ctrl/⌘+Enter). For example:"
   ]
  },
  {
   "cell_type": "code",
   "execution_count": null,
   "metadata": {
    "slideshow": {
     "slide_type": "slide"
    }
   },
   "outputs": [],
   "source": [
    "function Hello(name: String) : Unit {\n",
    "\n",
    "    // The following line will simply write a message to the console:\n",
    "    Message($\"Hello {name}!\");\n",
    "\n",
    "}"
   ]
  },
  {
   "cell_type": "markdown",
   "metadata": {
    "slideshow": {
     "slide_type": "notes"
    }
   },
   "source": [
    "When you **Run** the cell, Q# compiles the code and returns the name of the callables it found. \n",
    "In this case, it finds only one callable (`Hello`) that accepts one argument (`name` of type `String`) \n",
    "and returns no value (`Unit`, roughly equivalent to `void` in C).\n",
    "\n",
    "As you can see, Q# is structurally very similar to familiar\n",
    "languages such as C# and Java in its use of semicolons to end\n",
    "statements, curly brackets to group statements, function calls and doubleslash to introduce comments. \n",
    "It is a strongly typed language so all variables, arguments and return values\n",
    "must have an associated type. Q# supports a familar set of classical types like:\n",
    "- Int\n",
    "- BigInt\n",
    "- Bool\n",
    "- Double\n",
    "\n",
    "but also some quantum-specific:\n",
    "- Qubit\n",
    "- Result\n",
    "- Pauli\n",
    "\n",
    "The complete set of primitive types can be found in [Q# type model documentation](https://docs.microsoft.com/en-us/quantum/language/type-model?view=qsharp-preview#primitive-types).\n",
    "\n",
    "In classical programs a bit, or binary digit, represents the basic unit of information and can be only one of two states: `0` or `1`.\n",
    "\n",
    "Similarly, the **qubit**, or quantum bit, represents the basic unit of information for quantum algorithms. Like a bit, a qubit when measured can only be in one of two states:  $|0\\rangle$ or  $|1\\rangle$; however during execution, the state of the qubit represents *the probability of reading* $|0\\rangle$ or $|1\\rangle$. \n",
    "\n",
    "> For more information about qubits and their mathematical description, \n",
    "> take a look at [the qubit topic](https://docs.microsoft.com/en-us/quantum/concepts/the-qubit?view=qsharp-preview) inside \n",
    "\n",
    "In Q#, $|0\\rangle$ and $|1\\rangle$ are represented by `Result.Zero` and `Result.One` accordingly and qubits can only be allocated inside an operation with the `using` statement. When it gets allocated a qubit is always in the $|0\\rangle$  state. To measure a qubit and read its value you use the [`M`](https://docs.microsoft.com/en-us/qsharp/api/qsharp/microsoft.quantum.primitive.m) intrinsic operation.\n",
    "\n",
    "As such, the next `HelloQuantum` operation always return `Result.Zero`:"
   ]
  },
  {
   "cell_type": "code",
   "execution_count": null,
   "metadata": {
    "slideshow": {
     "slide_type": "slide"
    }
   },
   "outputs": [],
   "source": [
    "operation HelloQuantum() : Result {\n",
    "    using(q = Qubit()) {\n",
    "        return M(q);\n",
    "    }\n",
    "}"
   ]
  },
  {
   "cell_type": "markdown",
   "metadata": {
    "slideshow": {
     "slide_type": "notes"
    }
   },
   "source": [
    "To verify this, you can use the `%simulate` magic to simulate the execution of the operation in a QPU:"
   ]
  },
  {
   "cell_type": "code",
   "execution_count": null,
   "metadata": {
    "slideshow": {
     "slide_type": "-"
    }
   },
   "outputs": [],
   "source": [
    "%simulate HelloQuantum"
   ]
  },
  {
   "cell_type": "markdown",
   "metadata": {
    "slideshow": {
     "slide_type": "notes"
    }
   },
   "source": [
    "A more interesting example for a Q# operation is a quantum random number generator (QNRG). A QNRG returns a different value each time it is invoked:"
   ]
  },
  {
   "cell_type": "code",
   "execution_count": null,
   "metadata": {
    "slideshow": {
     "slide_type": "slide"
    }
   },
   "outputs": [],
   "source": [
    "operation QNRG() : Result {\n",
    "    using (q = Qubit()) {\n",
    "        H(q);\n",
    "        let r = M(q);\n",
    "        \n",
    "        Reset(q);\n",
    "        return r;\n",
    "    }\n",
    "}"
   ]
  },
  {
   "cell_type": "markdown",
   "metadata": {
    "slideshow": {
     "slide_type": "notes"
    }
   },
   "source": [
    "As mentioned, one of the key characteristics of a qubit is that during execution it's state represents the probabiliy of measuring $|0\\rangle$ or $|1\\rangle$. In particular, the [`H`](https://docs.microsoft.com/en-us/qsharp/api/qsharp/microsoft.quantum.primitive.h) primitive operation modifies the state of a qubit from $|0\\rangle$ to a state in which there is 50% probability of measuring  $|0\\rangle$ and 50% probability of measuring  $|1\\rangle$.\n",
    "\n",
    "> When the state of a qubit is such that it is not a 100% $|0\\rangle$ or 100% $|1\\rangle$, \n",
    "> we say the qubit is in **superposition**."
   ]
  },
  {
   "cell_type": "markdown",
   "metadata": {
    "slideshow": {
     "slide_type": "slide"
    }
   },
   "source": [
    "`QNRG` demonstrates some basic Q# features:\n",
    "\n",
    "- Immutable variables are created using `let`, in the previous example, the variable `r` is assigned the value returned by invoking `M` on qubit `q`.\n",
    "- When de-allocated, qubits must be explicitly set back to $|0\\rangle$, otherwise the simulator will report a runtime error. An easy way to achieve this is invoking [`Reset`](https://docs.microsoft.com/en-us/qsharp/api/qsharp/microsoft.quantum.primitive.reset).\n"
   ]
  },
  {
   "cell_type": "markdown",
   "metadata": {
    "slideshow": {
     "slide_type": "notes"
    }
   },
   "source": [
    "\n",
    "To verify the behavior of `QNRG`, we can create another Q# operation that invokes it 10 times and prints the result to the console:"
   ]
  },
  {
   "cell_type": "code",
   "execution_count": null,
   "metadata": {
    "slideshow": {
     "slide_type": "slide"
    }
   },
   "outputs": [],
   "source": [
    "operation Main() : Unit {\n",
    "    for(i in 1..10) {\n",
    "        Message($\"{i}: {QNRG()}\");\n",
    "    }\n",
    "}"
   ]
  },
  {
   "cell_type": "code",
   "execution_count": null,
   "metadata": {
    "slideshow": {
     "slide_type": "-"
    }
   },
   "outputs": [],
   "source": [
    "%simulate Main"
   ]
  },
  {
   "cell_type": "markdown",
   "metadata": {
    "slideshow": {
     "slide_type": "notes"
    }
   },
   "source": [
    "Q# operations can return more than a single `Result`, let's modify `QRNG` to return an array:"
   ]
  },
  {
   "cell_type": "code",
   "execution_count": null,
   "metadata": {
    "slideshow": {
     "slide_type": "slide"
    }
   },
   "outputs": [],
   "source": [
    "open Microsoft.Quantum.Arrays;\n",
    "\n",
    "operation QNRG2(n: Int) : Result[] {\n",
    "\n",
    "    mutable r = new Result[n];\n",
    "    \n",
    "    using (qs = Qubit[n]) {\n",
    "        ApplyToEach(H, qs);\n",
    "        \n",
    "        for(i in IndexRange(qs)) {\n",
    "            set r w/= i <- M(qs[i]);\n",
    "        }\n",
    "        \n",
    "        ResetAll(qs);\n",
    "    }\n",
    "\n",
    "    return r;\n",
    "}"
   ]
  },
  {
   "cell_type": "markdown",
   "metadata": {
    "slideshow": {
     "slide_type": "subslide"
    }
   },
   "source": [
    "`QRNG2` demonstrates other Q# features:\n",
    "\n",
    "- `mutable` is used to initialize variables that can be modified later in the code using `set`.\n",
    "- `new Result[n]` is used to initialize a new `Result` array of size `n`.\n",
    "- `[]` is used to access the element of an array.\n",
    "- New arrays can be created from existing ones via [copy-and-update expressions](https://docs.microsoft.com/en-us/quantum/language/expressions?view=qsharp-preview#copy-and-update-expressions). A copy-and-update expression is an expression of the form `arr w/ idx <- value` that constructs a new array with all elements set to the corresponding element in `arr`, except for the element(s) at `idx`, which are set to the one(s) in `value`. The resulting array can be assigned to the same variable by using the `w/=` operator.\n"
   ]
  },
  {
   "cell_type": "markdown",
   "metadata": {
    "slideshow": {
     "slide_type": "subslide"
    }
   },
   "source": [
    "- Q# has a rich set of built-in libraries, for example:\n",
    "  -  [`ApplyToEach`](https://docs.microsoft.com/en-us/qsharp/api/qsharp/microsoft.quantum.canon.applytoeach): is an Operation that receives another operation as paramter and an array, and applies the given operation to each element of the array. In this particular case\n",
    "  -  [`IndexRange`](https://docs.microsoft.com/en-us/qsharp/api/qsharp/microsoft.quantum.arrays.indexrange): is a function that given an array, creates a range to iterate over the indices of the elements in the array.\n",
    "  -  [`ResetAll`](https://docs.microsoft.com/en-us/qsharp/api/qsharp/microsoft.quantum.intrinsic.resetall): similar to `Reset`, it makes sure all elements of a qubit array are in `Result.Zero` state so they can be safely de-allocated.\n"
   ]
  },
  {
   "cell_type": "markdown",
   "metadata": {
    "slideshow": {
     "slide_type": "subslide"
    }
   },
   "source": [
    "- All callables belong to a namespace. In Jupyter, you can use all the operations in the [Microsoft.Quantum.Intrinsic](https://docs.microsoft.com/en-us/qsharp/api/qsharp/microsoft.quantum.intrinsic?view=qsharp-preview) and the [Microsoft.Quantum.Canon](https://docs.microsoft.com/en-us/qsharp/api/qsharp/microsoft.quantum.canon?view=qsharp-preview) namespaces automatically. To use operations in other namespaces, like `IndexRange` from `Microsoft.Quantum.Array`, you have to use the fully qualified name of the operation (i.e. `Microsoft.Quantum.Array.IndexRange`) or include an `open` statement at the top.\n"
   ]
  },
  {
   "cell_type": "markdown",
   "metadata": {
    "slideshow": {
     "slide_type": "notes"
    }
   },
   "source": [
    "You can define multiple operations in a single cell and use any valid Q# code, for example:"
   ]
  },
  {
   "cell_type": "code",
   "execution_count": 1,
   "metadata": {
    "slideshow": {
     "slide_type": "slide"
    }
   },
   "outputs": [
    {
     "data": {
      "application/json": "[\"PrepareMinus\",\"PreparePlus\"]",
      "text/html": [
       "<ul><li>PrepareMinus</li><li>PreparePlus</li></ul>"
      ],
      "text/plain": [
       "PrepareMinus, PreparePlus"
      ]
     },
     "execution_count": 1,
     "metadata": {},
     "output_type": "execute_result"
    }
   ],
   "source": [
    "open Microsoft.Quantum.Math;\n",
    "\n",
    "/// # Summary\n",
    "/// Given a qubit in |0⟩, prepares the qubit's state to |+⟩\n",
    "operation PreparePlus(q: Qubit) : Unit \n",
    "is Adj + Ctl {\n",
    "    H(q);\n",
    "}\n",
    "\n",
    "/// # Summary\n",
    "/// Given a qubit in |0⟩, prepares the qubit's state to |-⟩\n",
    "operation PrepareMinus(q: Qubit) : Unit\n",
    "is Adj + Ctl {\n",
    "    X(q);\n",
    "    H(q);\n",
    "}\n"
   ]
  },
  {
   "cell_type": "markdown",
   "metadata": {
    "slideshow": {
     "slide_type": "notes"
    }
   },
   "source": [
    "`PrepareMinus` and `PreparePlus` shows how Q# can automatically calculate the adjoint and the controlled version of an operation. In the declaration you simply include `is Adj + Ctrl`. You can then invoke the operation's adjoint by using the `Adjoint` keyword. Similarly, you can invoke the quantum-controlled version of the operation using the `Controlled` keyword and passing an array of control qubits:"
   ]
  },
  {
   "cell_type": "code",
   "execution_count": null,
   "metadata": {
    "slideshow": {
     "slide_type": "slide"
    }
   },
   "outputs": [],
   "source": [
    "\n",
    "operation AlwaysZero() : Result {\n",
    "    using((ctrls, q) = (Qubit[1], Qubit())) {    \n",
    "\n",
    "        PreparePlus(q);                         // The operation we just defined\n",
    "        Controlled PrepareMinus(ctrls, q);      // Passing control qubits\n",
    "        Adjoint PreparePlus(q);                 // The adjoint of the original\n",
    "        Adjoint Controlled PrepareMinus(ctrls, q);        \n",
    "        \n",
    "        return M(q);\n",
    "    }\n",
    "}\n",
    "\n",
    "operation LoopAlwaysZero() : Unit {\n",
    "    for(i in 1..5) {\n",
    "        Message($\"Result: {AlwaysZero()}\");\n",
    "    }\n",
    "}\n",
    "\n"
   ]
  },
  {
   "cell_type": "code",
   "execution_count": null,
   "metadata": {
    "slideshow": {
     "slide_type": "-"
    }
   },
   "outputs": [],
   "source": [
    "%simulate LoopAlwaysZero"
   ]
  },
  {
   "cell_type": "markdown",
   "metadata": {
    "slideshow": {
     "slide_type": "notes"
    }
   },
   "source": [
    "It is common for quantum algorithsm to have a pattern of applying a list of operations to prepare certain state, do some other operation and then do the adjoint of the fist set to undo its effects, for example:\n"
   ]
  },
  {
   "cell_type": "markdown",
   "metadata": {
    "slideshow": {
     "slide_type": "slide"
    }
   },
   "source": [
    "![](data:image/png;base64,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)"
   ]
  },
  {
   "cell_type": "markdown",
   "metadata": {
    "slideshow": {
     "slide_type": "notes"
    }
   },
   "source": [
    "Q# provides built-in functionality for this using `within / apply`:"
   ]
  },
  {
   "cell_type": "code",
   "execution_count": null,
   "metadata": {
    "slideshow": {
     "slide_type": "slide"
    }
   },
   "outputs": [],
   "source": [
    "open Microsoft.Quantum.Arrays;\n",
    "open Microsoft.Quantum.Diagnostics;\n",
    "    \n",
    "operation Mirror(qubits: Qubit[]) : Unit\n",
    "is Adj {\n",
    "\n",
    "    Message(\"Before:\");\n",
    "    DumpMachine();\n",
    "    \n",
    "    within {\n",
    "        ApplyToEachA(H, qubits);\n",
    "        ApplyToEachA(X, qubits);\n",
    "    }\n",
    "    apply {\n",
    "        (Controlled Z) (Rest(qubits), Head(qubits));\n",
    "    }\n",
    "\n",
    "    Message(\"After:\");\n",
    "    DumpMachine();\n",
    "}"
   ]
  },
  {
   "cell_type": "markdown",
   "metadata": {
    "slideshow": {
     "slide_type": "notes"
    }
   },
   "source": [
    "Notice also the [`DumpMachine`](https://docs.microsoft.com/en-us/quantum/techniques/testing-and-debugging?#dump-functions) calls. As in a real QPU, Q# does not allow you to access the qubit's state. However, you can use [`DumpMachine`](https://docs.microsoft.com/en-us/quantum/techniques/testing-and-debugging?#dump-functions) to have the simulator output to the console its internal status and debug your code:"
   ]
  },
  {
   "cell_type": "code",
   "execution_count": null,
   "metadata": {
    "slideshow": {
     "slide_type": "slide"
    }
   },
   "outputs": [],
   "source": [
    "\n",
    "operation TestMirror() : Unit {\n",
    "    using (qubits = Qubit[4]) {\n",
    "        PrepareMinus(qubits[0]);        \n",
    "        Mirror(qubits);\n",
    "        \n",
    "        ResetAll(qubits);\n",
    "    }\n",
    "}"
   ]
  },
  {
   "cell_type": "code",
   "execution_count": null,
   "metadata": {
    "slideshow": {
     "slide_type": "-"
    }
   },
   "outputs": [],
   "source": [
    "%simulate TestMirror"
   ]
  },
  {
   "cell_type": "markdown",
   "metadata": {
    "slideshow": {
     "slide_type": "notes"
    }
   },
   "source": [
    "The `%estimate` command lets you estimate the resources a given quantum operation will need to execute, without actually executing the operation. Similar to `%simulate` it takes the name of a no-arguments operation. However, `%estimate` does not keep track of the qubit's state and will not return the output of the operation, instead it returns the estimated values of how many resources, like Qubits and CNOT gates, the corresponding operation will use:"
   ]
  },
  {
   "cell_type": "code",
   "execution_count": null,
   "metadata": {
    "slideshow": {
     "slide_type": "slide"
    }
   },
   "outputs": [],
   "source": [
    "%estimate TestMirror"
   ]
  },
  {
   "cell_type": "markdown",
   "metadata": {
    "slideshow": {
     "slide_type": "notes"
    }
   },
   "source": [
    "To learn more about resources estimation, take a look at [The ResourcesEstimator Target Machine](https://docs.microsoft.com/en-us/quantum/machines/resources-estimator?) documentation."
   ]
  },
  {
   "cell_type": "markdown",
   "metadata": {
    "slideshow": {
     "slide_type": "notes"
    }
   },
   "source": [
    "## The Workspace\n",
    "\n",
    "The notebook uses the folder it lives on disk to define a workspace. It will try to compile all the Q# files (i.e. all files with a `.qs` extension) it finds under the current folder and will make the operations it finds available to operations in the notebook. For example, the [Operations.qs](/edit/Operations.qs) file in this folder defines two operations:\n",
    "* Microsoft.Quantum.Samples.IsMinus\n",
    "* Microsoft.Quantum.Samples.IsPlus\n",
    "\n",
    "To get the list of operations defined in the workspace, you can use the `%workspace` command:"
   ]
  },
  {
   "cell_type": "code",
   "execution_count": null,
   "metadata": {
    "slideshow": {
     "slide_type": "slide"
    }
   },
   "outputs": [],
   "source": [
    "%workspace"
   ]
  },
  {
   "cell_type": "markdown",
   "metadata": {
    "slideshow": {
     "slide_type": "notes"
    }
   },
   "source": [
    "These operations can be used in this notebook, for example:"
   ]
  },
  {
   "cell_type": "code",
   "execution_count": null,
   "metadata": {
    "slideshow": {
     "slide_type": "slide"
    }
   },
   "outputs": [],
   "source": [
    "open Microsoft.Quantum.Samples;\n",
    "\n",
    "operation CheckPlus() : Bool {\n",
    "    mutable result = false;\n",
    "    \n",
    "    using (q = Qubit()) {\n",
    "        SetPlus(q);\n",
    "        set result = IsPlus(q);\n",
    "        \n",
    "        Reset(q);\n",
    "    }\n",
    "\n",
    "    return result;\n",
    "}"
   ]
  },
  {
   "cell_type": "code",
   "execution_count": null,
   "metadata": {
    "slideshow": {
     "slide_type": "-"
    }
   },
   "outputs": [],
   "source": [
    "%simulate CheckPlus"
   ]
  },
  {
   "cell_type": "markdown",
   "metadata": {
    "slideshow": {
     "slide_type": "notes"
    }
   },
   "source": [
    "To pick up any changes you make to a Q# file in the workspace, use `%workspace reload`. "
   ]
  },
  {
   "cell_type": "code",
   "execution_count": null,
   "metadata": {
    "slideshow": {
     "slide_type": "skip"
    }
   },
   "outputs": [],
   "source": [
    "%workspace reload"
   ]
  },
  {
   "cell_type": "markdown",
   "metadata": {
    "slideshow": {
     "slide_type": "notes"
    }
   },
   "source": [
    "## Getting Help ##\n",
    "\n",
    "Q# supports adding documentation to operations via comments in the code. When such documentation exists, you can access it from the notebook by adding a question mark before or after the operation name on a code cell, for example:"
   ]
  },
  {
   "cell_type": "code",
   "execution_count": null,
   "metadata": {
    "slideshow": {
     "slide_type": "slide"
    }
   },
   "outputs": [],
   "source": [
    "Microsoft.Quantum.Intrinsic.X?"
   ]
  },
  {
   "cell_type": "markdown",
   "metadata": {
    "slideshow": {
     "slide_type": "notes"
    }
   },
   "source": [
    "This documentation is available for any operations in the Prelude, Canon and Workspace, or even those defined locally in the notebook:"
   ]
  },
  {
   "cell_type": "code",
   "execution_count": null,
   "metadata": {
    "slideshow": {
     "slide_type": "-"
    }
   },
   "outputs": [],
   "source": [
    "PreparePlus?"
   ]
  },
  {
   "cell_type": "markdown",
   "metadata": {
    "slideshow": {
     "slide_type": "notes"
    }
   },
   "source": [
    "### `%who`\n",
    "\n",
    "`%who` returns the list of all local and workspace operations available."
   ]
  },
  {
   "cell_type": "code",
   "execution_count": null,
   "metadata": {
    "slideshow": {
     "slide_type": "slide"
    }
   },
   "outputs": [],
   "source": [
    "%who"
   ]
  },
  {
   "cell_type": "markdown",
   "metadata": {
    "slideshow": {
     "slide_type": "notes"
    }
   },
   "source": [
    "### `%package`\n",
    "\n",
    "`%package` allows you to load nuget packages and makes available any Q# operations defined on them. For example, to use the operations from [Q#'s Quantum Chemistry Library](https://docs.microsoft.com/en-us/quantum/libraries/chemistry/?view=qsharp-preview), you must load the [Microsoft.Quantum.Chemistry](https://www.nuget.org/packages/Microsoft.Quantum.Chemistry/) nuget package:"
   ]
  },
  {
   "cell_type": "code",
   "execution_count": null,
   "metadata": {
    "slideshow": {
     "slide_type": "slide"
    }
   },
   "outputs": [],
   "source": [
    "%package Microsoft.Quantum.Chemistry"
   ]
  },
  {
   "cell_type": "markdown",
   "metadata": {
    "slideshow": {
     "slide_type": "notes"
    }
   },
   "source": [
    "`%package` returns the list of nuget packages currently loaded and their version."
   ]
  },
  {
   "cell_type": "markdown",
   "metadata": {
    "slideshow": {
     "slide_type": "notes"
    }
   },
   "source": [
    "### `%version`\n",
    "\n",
    "`%version` simply returns the current versions of IQ# and of Jupyter Core (a library used by IQ#):"
   ]
  },
  {
   "cell_type": "code",
   "execution_count": null,
   "metadata": {
    "slideshow": {
     "slide_type": "slide"
    }
   },
   "outputs": [],
   "source": [
    "%version"
   ]
  }
 ],
 "metadata": {
  "kernelspec": {
   "display_name": "Q#",
   "language": "qsharp",
   "name": "iqsharp"
  },
  "language_info": {
   "file_extension": ".qs",
   "mimetype": "text/x-qsharp",
   "name": "qsharp",
   "version": "0.4"
  }
 },
 "nbformat": 4,
 "nbformat_minor": 2
}
